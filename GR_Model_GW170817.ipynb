{
 "cells": [
  {
   "cell_type": "markdown",
   "id": "d303ceb3",
   "metadata": {},
   "source": [
    "# GR-Only Bayesian Inference on GW170817\n",
    "This notebook runs an MCMC fit using a simple GR-only model (no Curvality fields) on the real residuals from GW170817."
   ]
  },
  {
   "cell_type": "code",
   "execution_count": null,
   "id": "624db6dd",
   "metadata": {},
   "outputs": [],
   "source": [
    "from google.colab import files\n",
    "uploaded = files.upload()  # Upload Curvality_GR_Model_Colab_Files.zip\n",
    "!unzip -o Curvality_GR_Model_Colab_Files.zip"
   ]
  },
  {
   "cell_type": "code",
   "execution_count": null,
   "id": "53383695",
   "metadata": {},
   "outputs": [],
   "source": [
    "!pip install pymc arviz"
   ]
  },
  {
   "cell_type": "code",
   "execution_count": null,
   "id": "082c91d0",
   "metadata": {},
   "outputs": [],
   "source": [
    "import pandas as pd\n",
    "import pymc as pm\n",
    "import arviz as az\n",
    "import numpy as np\n",
    "import matplotlib.pyplot as plt\n",
    "\n",
    "# Load residuals\n",
    "residuals = pd.read_csv('curvality_residuals.csv')\n",
    "y = residuals['residuals'].values\n",
    "t = np.arange(len(y)) * 1.0 / 4096  # Assuming 4096 Hz sample rate"
   ]
  },
  {
   "cell_type": "code",
   "execution_count": null,
   "id": "91b752c8",
   "metadata": {},
   "outputs": [],
   "source": [
    "with pm.Model() as gr_model:\n",
    "    sigma = pm.HalfNormal('sigma', sigma=1.0)\n",
    "    mu = pm.Normal('mu', mu=0.0, sigma=1.0)\n",
    "    y_obs = pm.Normal('y_obs', mu=mu, sigma=sigma, observed=y)\n",
    "\n",
    "    trace_gr = pm.sample(2000, tune=1000, target_accept=0.9, return_inferencedata=True)"
   ]
  },
  {
   "cell_type": "code",
   "execution_count": null,
   "id": "57c15b8b",
   "metadata": {},
   "outputs": [],
   "source": [
    "az.plot_trace(trace_gr);\n",
    "plt.savefig('gr_trace.png', dpi=300)\n",
    "summary = az.summary(trace_gr)\n",
    "summary.to_csv('gr_summary.csv')\n",
    "summary"
   ]
  },
  {
   "cell_type": "code",
   "execution_count": null,
   "id": "9f9b2904",
   "metadata": {},
   "outputs": [],
   "source": [
    "# If you already ran the Curvality model and have the trace:\n",
    "# from arviz import compare\n",
    "# az.compare({'GR': trace_gr, 'Curvality': trace_curvality})"
   ]
  },
  {
   "cell_type": "code",
   "execution_count": null,
   "id": "ac9edb00",
   "metadata": {},
   "outputs": [],
   "source": [
    "import shutil\n",
    "from google.colab import files\n",
    "shutil.make_archive('GR_Inference_Results', 'zip', '.', '.')\n",
    "files.download('GR_Inference_Results.zip')"
   ]
  }
 ],
 "metadata": {},
 "nbformat": 4,
 "nbformat_minor": 5
}