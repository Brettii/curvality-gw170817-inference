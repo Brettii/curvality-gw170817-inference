{
 "cells": [
  {
   "cell_type": "markdown",
   "id": "6e4465db",
   "metadata": {},
   "source": [
    "# 🧪 Curvality GW170817 Bayesian Analysis (Upload Inside Notebook)\n",
    "This version lets you upload the zip file directly from Colab."
   ]
  },
  {
   "cell_type": "code",
   "execution_count": null,
   "id": "16a5992f",
   "metadata": {},
   "outputs": [],
   "source": [
    "# 📁 Upload ZIP interactively\n",
    "from google.colab import files\n",
    "uploaded = files.upload()"
   ]
  },
  {
   "cell_type": "code",
   "execution_count": null,
   "id": "9e9d6609",
   "metadata": {},
   "outputs": [],
   "source": [
    "# 📂 Unzip it\n",
    "!unzip -o Curvality_GW170817_Colab_Files.zip"
   ]
  },
  {
   "cell_type": "code",
   "execution_count": null,
   "id": "06ee822a",
   "metadata": {},
   "outputs": [],
   "source": [
    "# 📦 Install dependencies\n",
    "!pip install numpy scipy matplotlib pymc h5py arviz"
   ]
  },
  {
   "cell_type": "code",
   "execution_count": null,
   "id": "e83613b6",
   "metadata": {},
   "outputs": [],
   "source": [
    "# 📊 Load H1 and L1 strain from HDF5\n",
    "import h5py\n",
    "import numpy as np\n",
    "import matplotlib.pyplot as plt\n",
    "\n",
    "with h5py.File('H-H1_LOSC_CLN_4_V1-1187007040-2048.hdf5', 'r') as f:\n",
    "    h1_strain = f['strain']['Strain'][:]\n",
    "    h1_dt = f['strain']['Strain'].attrs['Xspacing']\n",
    "\n",
    "with h5py.File('L-L1_LOSC_CLN_4_V1-1187007040-2048.hdf5', 'r') as f:\n",
    "    l1_strain = f['strain']['Strain'][:]\n",
    "    l1_dt = f['strain']['Strain'].attrs['Xspacing']"
   ]
  },
  {
   "cell_type": "code",
   "execution_count": null,
   "id": "319d3422",
   "metadata": {},
   "outputs": [],
   "source": [
    "# 🔊 Compute PSD\n",
    "from scipy.signal import welch\n",
    "\n",
    "fs = int(1 / h1_dt)\n",
    "f_h1, psd_h1 = welch(h1_strain, fs, nperseg=fs)\n",
    "f_l1, psd_l1 = welch(l1_strain, fs, nperseg=fs)\n",
    "\n",
    "plt.loglog(f_h1, psd_h1, label='H1 PSD')\n",
    "plt.loglog(f_l1, psd_l1, label='L1 PSD')\n",
    "plt.xlabel('Frequency (Hz)')\n",
    "plt.ylabel('PSD (strain²/Hz)')\n",
    "plt.title('Power Spectral Density')\n",
    "plt.legend()\n",
    "plt.grid(True)\n",
    "plt.show()"
   ]
  },
  {
   "cell_type": "code",
   "execution_count": null,
   "id": "215d6f47",
   "metadata": {},
   "outputs": [],
   "source": [
    "# 🧮 Load Curvality residuals\n",
    "import pandas as pd\n",
    "\n",
    "res_df = pd.read_csv(\"curvality_residuals.csv\")\n",
    "res_df.plot(x=res_df.columns[0], y=res_df.columns[1], title='Curvality Residual Δh(t)')"
   ]
  },
  {
   "cell_type": "code",
   "execution_count": null,
   "id": "04ce271f",
   "metadata": {},
   "outputs": [],
   "source": [
    "# 🔁 PyMC model\n",
    "import pymc as pm\n",
    "\n",
    "with pm.Model() as model:\n",
    "    alpha = pm.Normal('alpha', mu=1.0, sigma=0.2)\n",
    "    beta = pm.Normal('beta', mu=1.0, sigma=0.2)\n",
    "    gamma = pm.HalfNormal('gamma', sigma=0.1)\n",
    "    delta = pm.HalfNormal('delta', sigma=0.1)\n",
    "    S_c = pm.HalfNormal('S_c', sigma=0.1)\n",
    "    R_c = pm.HalfNormal('R_c', sigma=0.01)\n",
    "\n",
    "    epsilon = 1e-21\n",
    "    likelihood = pm.Normal('obs', mu=0, sigma=epsilon, observed=res_df[res_df.columns[1]])\n",
    "\n",
    "    trace = pm.sample(1000, tune=1000, cores=2, return_inferencedata=True)"
   ]
  },
  {
   "cell_type": "code",
   "execution_count": null,
   "id": "f7d78cfe",
   "metadata": {},
   "outputs": [],
   "source": [
    "# 📈 Plot posterior distributions\n",
    "import arviz as az\n",
    "az.plot_trace(trace);"
   ]
  }
 ],
 "metadata": {},
 "nbformat": 4,
 "nbformat_minor": 5
}
